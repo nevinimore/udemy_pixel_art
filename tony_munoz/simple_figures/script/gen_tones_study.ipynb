{
 "cells": [
  {
   "cell_type": "code",
   "execution_count": 105,
   "id": "initial_id",
   "metadata": {
    "collapsed": true,
    "ExecuteTime": {
     "end_time": "2023-08-20T21:45:59.518709Z",
     "start_time": "2023-08-20T21:45:59.469539100Z"
    }
   },
   "outputs": [],
   "source": [
    "from typing import Tuple\n",
    "import glob\n",
    "import pylab as p\n",
    "from PIL import Image, ImageFont, ImageDraw\n",
    "import colorsys\n",
    "import os\n",
    "import matplotlib.pyplot as plt\n",
    "import numpy as np\n",
    "from typing import Dict\n"
   ]
  },
  {
   "cell_type": "code",
   "execution_count": 77,
   "outputs": [],
   "source": [
    "\n",
    "# Get the file paths\n",
    "im_file = 'gray.png'\n",
    "\n",
    "im = np.asarray(Image.open(im_file))\n",
    "# # convert your lists into a numpy array of size (N, H, W, C)\n",
    "# image = np.array(image_plt)\n",
    "# \n"
   ],
   "metadata": {
    "collapsed": false,
    "ExecuteTime": {
     "end_time": "2023-08-20T20:56:44.334806200Z",
     "start_time": "2023-08-20T20:56:44.285961400Z"
    }
   },
   "id": "a84a197672cf320f"
  },
  {
   "cell_type": "code",
   "execution_count": 97,
   "outputs": [
    {
     "data": {
      "text/plain": "array([[[  0,   0,   0,   0],\n        [255, 255, 255, 255],\n        [255, 255, 255, 255],\n        ...,\n        [  0,   0,   0,   0],\n        [  0,   0,   0,   0],\n        [  0,   0,   0,   0]],\n\n       [[  0,   0,   0,   0],\n        [255, 255, 255, 255],\n        [255, 255, 255, 255],\n        ...,\n        [  0,   0,   0,   0],\n        [  0,   0,   0,   0],\n        [  0,   0,   0,   0]],\n\n       [[  0,   0,   0,   0],\n        [  0,   0,   0,   0],\n        [  0,   0,   0,   0],\n        ...,\n        [  0,   0,   0,   0],\n        [  0,   0,   0,   0],\n        [  0,   0,   0,   0]],\n\n       ...,\n\n       [[  0,   0,   0,   0],\n        [  0,   0,   0,   0],\n        [  0,   0,   0,   0],\n        ...,\n        [  0,   0,   0,   0],\n        [  0,   0,   0,   0],\n        [  0,   0,   0,   0]],\n\n       [[  0,   0,   0,   0],\n        [  0,   0,   0,   0],\n        [  0,   0,   0,   0],\n        ...,\n        [  0,   0,   0,   0],\n        [  0,   0,   0,   0],\n        [  0,   0,   0,   0]],\n\n       [[  0,   0,   0,   0],\n        [  0,   0,   0,   0],\n        [  0,   0,   0,   0],\n        ...,\n        [  0,   0,   0,   0],\n        [  0,   0,   0,   0],\n        [  0,   0,   0,   0]]], dtype=uint8)"
     },
     "execution_count": 97,
     "metadata": {},
     "output_type": "execute_result"
    }
   ],
   "source": [
    "im"
   ],
   "metadata": {
    "collapsed": false,
    "ExecuteTime": {
     "end_time": "2023-08-20T21:30:34.484376900Z",
     "start_time": "2023-08-20T21:30:34.473958300Z"
    }
   },
   "id": "fb49c75f1ef24766"
  },
  {
   "cell_type": "code",
   "execution_count": 79,
   "outputs": [
    {
     "data": {
      "text/plain": "<matplotlib.image.AxesImage at 0x225460aef50>"
     },
     "execution_count": 79,
     "metadata": {},
     "output_type": "execute_result"
    },
    {
     "data": {
      "text/plain": "<Figure size 640x480 with 1 Axes>",
      "image/png": "[encoded data removed]"
     },
     "metadata": {},
     "output_type": "display_data"
    }
   ],
   "source": [
    "plt.imshow(im)"
   ],
   "metadata": {
    "collapsed": false,
    "ExecuteTime": {
     "end_time": "2023-08-20T20:56:44.451566400Z",
     "start_time": "2023-08-20T20:56:44.298798300Z"
    }
   },
   "id": "eac1583755d06a3d"
  },
  {
   "cell_type": "code",
   "execution_count": 80,
   "outputs": [],
   "source": [
    "image_pixels = im.reshape(-1, 4)"
   ],
   "metadata": {
    "collapsed": false,
    "ExecuteTime": {
     "end_time": "2023-08-20T20:56:44.452566400Z",
     "start_time": "2023-08-20T20:56:44.414583200Z"
    }
   },
   "id": "9cf0cd6a56387517"
  },
  {
   "cell_type": "code",
   "execution_count": 81,
   "outputs": [],
   "source": [
    "from collections import defaultdict\n",
    "\n",
    "unique_colours = set()\n",
    "color_to_position = defaultdict(lambda: [])\n",
    "for i, row in enumerate(im):\n",
    "    for j, cell in enumerate(row):\n",
    "        if cell[3] == 255:\n",
    "            uni = cell[0]\n",
    "            unique_colours.add(uni)\n",
    "            color_to_position[uni].append((i, j))\n",
    "            if not (cell[0]==cell[1] and cell[0]==cell[2]):\n",
    "                print(f'error in {i, j}, cell: {cell}')"
   ],
   "metadata": {
    "collapsed": false,
    "ExecuteTime": {
     "end_time": "2023-08-20T20:56:44.452566400Z",
     "start_time": "2023-08-20T20:56:44.419648900Z"
    }
   },
   "id": "a6a8513a27fce3f9"
  },
  {
   "cell_type": "code",
   "execution_count": 82,
   "outputs": [
    {
     "data": {
      "text/plain": "{64, 128, 192, 255}"
     },
     "execution_count": 82,
     "metadata": {},
     "output_type": "execute_result"
    }
   ],
   "source": [
    "unique_colours"
   ],
   "metadata": {
    "collapsed": false,
    "ExecuteTime": {
     "end_time": "2023-08-20T20:56:44.452566400Z",
     "start_time": "2023-08-20T20:56:44.431763100Z"
    }
   },
   "id": "6ca4d2703e88e256"
  },
  {
   "cell_type": "code",
   "execution_count": 83,
   "outputs": [],
   "source": [
    "color_nd_to_position = {}\n",
    "for nk, ok in enumerate(sorted(color_to_position)):\n",
    "    color_nd_to_position[nk] = color_to_position[ok]"
   ],
   "metadata": {
    "collapsed": false,
    "ExecuteTime": {
     "end_time": "2023-08-20T20:56:44.453566700Z",
     "start_time": "2023-08-20T20:56:44.436538600Z"
    }
   },
   "id": "1fd24f5a39d9b487"
  },
  {
   "cell_type": "code",
   "execution_count": 84,
   "outputs": [
    {
     "data": {
      "text/plain": "{0: [(0, 7),\n  (0, 8),\n  (1, 7),\n  (1, 8),\n  (13, 30),\n  (14, 30),\n  (15, 30),\n  (16, 30),\n  (16, 31),\n  (17, 30),\n  (17, 31),\n  (18, 30),\n  (18, 31),\n  (19, 29),\n  (19, 30),\n  (19, 31),\n  (20, 29),\n  (20, 30),\n  (20, 31),\n  (21, 28),\n  (21, 29),\n  (21, 30),\n  (21, 31),\n  (22, 28),\n  (22, 29),\n  (22, 30),\n  (23, 27),\n  (23, 28),\n  (23, 29),\n  (23, 30),\n  (24, 26),\n  (24, 27),\n  (24, 28),\n  (24, 29),\n  (24, 30),\n  (25, 26),\n  (25, 27),\n  (25, 28),\n  (25, 29),\n  (26, 25),\n  (26, 26),\n  (26, 27),\n  (26, 28),\n  (26, 29),\n  (27, 24),\n  (27, 25),\n  (27, 26),\n  (27, 27),\n  (27, 28),\n  (28, 4),\n  (28, 5),\n  (28, 23),\n  (28, 24),\n  (28, 25),\n  (28, 26),\n  (28, 27),\n  (29, 4),\n  (29, 5),\n  (29, 6),\n  (29, 7),\n  (29, 8),\n  (29, 20),\n  (29, 21),\n  (29, 22),\n  (29, 23),\n  (29, 24),\n  (29, 25),\n  (29, 26),\n  (29, 27),\n  (30, 5),\n  (30, 6),\n  (30, 7),\n  (30, 8),\n  (30, 9),\n  (30, 10),\n  (30, 11),\n  (30, 17),\n  (30, 18),\n  (30, 19),\n  (30, 20),\n  (30, 21),\n  (30, 22),\n  (30, 23),\n  (30, 24),\n  (30, 25),\n  (30, 26),\n  (31, 7),\n  (31, 8),\n  (31, 9),\n  (31, 10),\n  (31, 11),\n  (31, 12),\n  (31, 13),\n  (31, 14),\n  (31, 15),\n  (31, 16),\n  (31, 17),\n  (31, 18),\n  (31, 19),\n  (31, 20),\n  (31, 21),\n  (31, 22),\n  (31, 23),\n  (31, 24),\n  (32, 8),\n  (32, 9),\n  (32, 10),\n  (32, 11),\n  (32, 12),\n  (32, 13),\n  (32, 14),\n  (32, 15),\n  (32, 16),\n  (32, 17),\n  (32, 18),\n  (32, 19),\n  (32, 20),\n  (32, 21),\n  (32, 22),\n  (32, 23),\n  (33, 10),\n  (33, 11),\n  (33, 12),\n  (33, 13),\n  (33, 14),\n  (33, 15),\n  (33, 16),\n  (33, 17),\n  (33, 18),\n  (33, 19),\n  (33, 20),\n  (33, 21),\n  (34, 13),\n  (34, 14),\n  (34, 15),\n  (34, 16),\n  (34, 17),\n  (34, 18),\n  (48, 7),\n  (48, 8),\n  (49, 7),\n  (49, 8),\n  (62, 27),\n  (62, 28),\n  (63, 25),\n  (63, 26),\n  (63, 27),\n  (63, 28),\n  (64, 23),\n  (64, 24),\n  (64, 25),\n  (64, 26),\n  (64, 27),\n  (64, 28),\n  (65, 21),\n  (65, 22),\n  (65, 23),\n  (65, 24),\n  (65, 25),\n  (65, 26),\n  (65, 27),\n  (65, 28),\n  (66, 19),\n  (66, 20),\n  (66, 21),\n  (66, 22),\n  (66, 23),\n  (66, 24),\n  (66, 25),\n  (66, 26),\n  (66, 27),\n  (66, 28),\n  (67, 17),\n  (67, 18),\n  (67, 19),\n  (67, 20),\n  (67, 21),\n  (67, 22),\n  (67, 23),\n  (67, 24),\n  (67, 25),\n  (67, 26),\n  (67, 27),\n  (67, 28),\n  (68, 17),\n  (68, 18),\n  (68, 19),\n  (68, 20),\n  (68, 21),\n  (68, 22),\n  (68, 23),\n  (68, 24),\n  (68, 25),\n  (68, 26),\n  (68, 27),\n  (68, 28),\n  (69, 17),\n  (69, 18),\n  (69, 19),\n  (69, 20),\n  (69, 21),\n  (69, 22),\n  (69, 23),\n  (69, 24),\n  (69, 25),\n  (69, 26),\n  (69, 27),\n  (69, 28),\n  (70, 17),\n  (70, 18),\n  (70, 19),\n  (70, 20),\n  (70, 21),\n  (70, 22),\n  (70, 23),\n  (70, 24),\n  (70, 25),\n  (70, 26),\n  (70, 27),\n  (70, 28),\n  (71, 17),\n  (71, 18),\n  (71, 19),\n  (71, 20),\n  (71, 21),\n  (71, 22),\n  (71, 23),\n  (71, 24),\n  (71, 25),\n  (71, 26),\n  (71, 27),\n  (71, 28),\n  (72, 17),\n  (72, 18),\n  (72, 19),\n  (72, 20),\n  (72, 21),\n  (72, 22),\n  (72, 23),\n  (72, 24),\n  (72, 25),\n  (72, 26),\n  (72, 27),\n  (72, 28),\n  (73, 17),\n  (73, 18),\n  (73, 19),\n  (73, 20),\n  (73, 21),\n  (73, 22),\n  (73, 23),\n  (73, 24),\n  (73, 25),\n  (73, 26),\n  (73, 27),\n  (73, 28),\n  (74, 17),\n  (74, 18),\n  (74, 19),\n  (74, 20),\n  (74, 21),\n  (74, 22),\n  (74, 23),\n  (74, 24),\n  (74, 25),\n  (74, 26),\n  (74, 27),\n  (74, 28),\n  (75, 17),\n  (75, 18),\n  (75, 19),\n  (75, 20),\n  (75, 21),\n  (75, 22),\n  (75, 23),\n  (75, 24),\n  (75, 25),\n  (75, 26),\n  (75, 27),\n  (75, 28),\n  (76, 17),\n  (76, 18),\n  (76, 19),\n  (76, 20),\n  (76, 21),\n  (76, 22),\n  (76, 23),\n  (76, 24),\n  (76, 25),\n  (76, 26),\n  (76, 27),\n  (76, 28),\n  (77, 17),\n  (77, 18),\n  (77, 19),\n  (77, 20),\n  (77, 21),\n  (77, 22),\n  (77, 23),\n  (77, 24),\n  (77, 25),\n  (77, 26),\n  (78, 17),\n  (78, 18),\n  (78, 19),\n  (78, 20),\n  (78, 21),\n  (78, 22),\n  (78, 23),\n  (78, 24),\n  (79, 17),\n  (79, 18),\n  (79, 19),\n  (79, 20),\n  (79, 21),\n  (79, 22),\n  (80, 17),\n  (80, 18),\n  (80, 19),\n  (80, 20),\n  (81, 17),\n  (81, 18)],\n 1: [(0, 5),\n  (0, 6),\n  (1, 5),\n  (1, 6),\n  (7, 26),\n  (8, 26),\n  (8, 27),\n  (9, 26),\n  (9, 27),\n  (10, 26),\n  (10, 27),\n  (10, 28),\n  (11, 27),\n  (11, 28),\n  (11, 29),\n  (12, 27),\n  (12, 28),\n  (12, 29),\n  (13, 27),\n  (13, 28),\n  (13, 29),\n  (14, 26),\n  (14, 27),\n  (14, 28),\n  (14, 29),\n  (15, 26),\n  (15, 27),\n  (15, 28),\n  (15, 29),\n  (16, 25),\n  (16, 26),\n  (16, 27),\n  (16, 28),\n  (16, 29),\n  (17, 25),\n  (17, 26),\n  (17, 27),\n  (17, 28),\n  (17, 29),\n  (18, 25),\n  (18, 26),\n  (18, 27),\n  (18, 28),\n  (18, 29),\n  (19, 24),\n  (19, 25),\n  (19, 26),\n  (19, 27),\n  (19, 28),\n  (20, 24),\n  (20, 25),\n  (20, 26),\n  (20, 27),\n  (20, 28),\n  (21, 0),\n  (21, 1),\n  (21, 23),\n  (21, 24),\n  (21, 25),\n  (21, 26),\n  (21, 27),\n  (22, 1),\n  (22, 2),\n  (22, 22),\n  (22, 23),\n  (22, 24),\n  (22, 25),\n  (22, 26),\n  (22, 27),\n  (23, 1),\n  (23, 2),\n  (23, 3),\n  (23, 4),\n  (23, 21),\n  (23, 22),\n  (23, 23),\n  (23, 24),\n  (23, 25),\n  (23, 26),\n  (24, 1),\n  (24, 2),\n  (24, 3),\n  (24, 4),\n  (24, 5),\n  (24, 6),\n  (24, 20),\n  (24, 21),\n  (24, 22),\n  (24, 23),\n  (24, 24),\n  (24, 25),\n  (25, 2),\n  (25, 3),\n  (25, 4),\n  (25, 5),\n  (25, 6),\n  (25, 7),\n  (25, 8),\n  (25, 9),\n  (25, 10),\n  (25, 18),\n  (25, 19),\n  (25, 20),\n  (25, 21),\n  (25, 22),\n  (25, 23),\n  (25, 24),\n  (25, 25),\n  (26, 2),\n  (26, 3),\n  (26, 4),\n  (26, 5),\n  (26, 6),\n  (26, 7),\n  (26, 8),\n  (26, 9),\n  (26, 10),\n  (26, 11),\n  (26, 12),\n  (26, 13),\n  (26, 14),\n  (26, 15),\n  (26, 16),\n  (26, 17),\n  (26, 18),\n  (26, 19),\n  (26, 20),\n  (26, 21),\n  (26, 22),\n  (26, 23),\n  (26, 24),\n  (27, 3),\n  (27, 4),\n  (27, 5),\n  (27, 6),\n  (27, 7),\n  (27, 8),\n  (27, 9),\n  (27, 10),\n  (27, 11),\n  (27, 12),\n  (27, 13),\n  (27, 14),\n  (27, 15),\n  (27, 16),\n  (27, 17),\n  (27, 18),\n  (27, 19),\n  (27, 20),\n  (27, 21),\n  (27, 22),\n  (27, 23),\n  (28, 6),\n  (28, 7),\n  (28, 8),\n  (28, 9),\n  (28, 10),\n  (28, 11),\n  (28, 12),\n  (28, 13),\n  (28, 14),\n  (28, 15),\n  (28, 16),\n  (28, 17),\n  (28, 18),\n  (28, 19),\n  (28, 20),\n  (28, 21),\n  (28, 22),\n  (29, 9),\n  (29, 10),\n  (29, 11),\n  (29, 12),\n  (29, 13),\n  (29, 14),\n  (29, 15),\n  (29, 16),\n  (29, 17),\n  (29, 18),\n  (29, 19),\n  (30, 12),\n  (30, 13),\n  (30, 14),\n  (30, 15),\n  (30, 16),\n  (48, 5),\n  (48, 6),\n  (49, 5),\n  (49, 6),\n  (61, 27),\n  (61, 28),\n  (62, 3),\n  (62, 4),\n  (62, 25),\n  (62, 26),\n  (63, 3),\n  (63, 4),\n  (63, 5),\n  (63, 6),\n  (63, 23),\n  (63, 24),\n  (64, 3),\n  (64, 4),\n  (64, 5),\n  (64, 6),\n  (64, 7),\n  (64, 8),\n  (64, 21),\n  (64, 22),\n  (65, 3),\n  (65, 4),\n  (65, 5),\n  (65, 6),\n  (65, 7),\n  (65, 8),\n  (65, 9),\n  (65, 10),\n  (65, 19),\n  (65, 20),\n  (66, 3),\n  (66, 4),\n  (66, 5),\n  (66, 6),\n  (66, 7),\n  (66, 8),\n  (66, 9),\n  (66, 10),\n  (66, 11),\n  (66, 12),\n  (66, 17),\n  (66, 18),\n  (67, 3),\n  (67, 4),\n  (67, 5),\n  (67, 6),\n  (67, 7),\n  (67, 8),\n  (67, 9),\n  (67, 10),\n  (67, 11),\n  (67, 12),\n  (67, 13),\n  (67, 14),\n  (67, 16),\n  (68, 3),\n  (68, 4),\n  (68, 5),\n  (68, 6),\n  (68, 7),\n  (68, 8),\n  (68, 9),\n  (68, 10),\n  (68, 11),\n  (68, 12),\n  (68, 13),\n  (68, 14),\n  (68, 16),\n  (69, 3),\n  (69, 4),\n  (69, 5),\n  (69, 6),\n  (69, 7),\n  (69, 8),\n  (69, 9),\n  (69, 10),\n  (69, 11),\n  (69, 12),\n  (69, 13),\n  (69, 14),\n  (69, 16),\n  (70, 3),\n  (70, 4),\n  (70, 5),\n  (70, 6),\n  (70, 7),\n  (70, 8),\n  (70, 9),\n  (70, 10),\n  (70, 11),\n  (70, 12),\n  (70, 13),\n  (70, 14),\n  (70, 16),\n  (71, 3),\n  (71, 4),\n  (71, 5),\n  (71, 6),\n  (71, 7),\n  (71, 8),\n  (71, 9),\n  (71, 10),\n  (71, 11),\n  (71, 12),\n  (71, 13),\n  (71, 14),\n  (71, 16),\n  (72, 3),\n  (72, 4),\n  (72, 5),\n  (72, 6),\n  (72, 7),\n  (72, 8),\n  (72, 9),\n  (72, 10),\n  (72, 11),\n  (72, 12),\n  (72, 13),\n  (72, 14),\n  (72, 16),\n  (73, 3),\n  (73, 4),\n  (73, 5),\n  (73, 6),\n  (73, 7),\n  (73, 8),\n  (73, 9),\n  (73, 10),\n  (73, 11),\n  (73, 12),\n  (73, 13),\n  (73, 14),\n  (73, 16),\n  (74, 3),\n  (74, 4),\n  (74, 5),\n  (74, 6),\n  (74, 7),\n  (74, 8),\n  (74, 9),\n  (74, 10),\n  (74, 11),\n  (74, 12),\n  (74, 13),\n  (74, 14),\n  (74, 16),\n  (75, 3),\n  (75, 4),\n  (75, 5),\n  (75, 6),\n  (75, 7),\n  (75, 8),\n  (75, 9),\n  (75, 10),\n  (75, 11),\n  (75, 12),\n  (75, 13),\n  (75, 14),\n  (75, 16),\n  (76, 3),\n  (76, 4),\n  (76, 5),\n  (76, 6),\n  (76, 7),\n  (76, 8),\n  (76, 9),\n  (76, 10),\n  (76, 11),\n  (76, 12),\n  (76, 13),\n  (76, 14),\n  (76, 16),\n  (77, 5),\n  (77, 6),\n  (77, 7),\n  (77, 8),\n  (77, 9),\n  (77, 10),\n  (77, 11),\n  (77, 12),\n  (77, 13),\n  (77, 14),\n  (77, 16),\n  (78, 7),\n  (78, 8),\n  (78, 9),\n  (78, 10),\n  (78, 11),\n  (78, 12),\n  (78, 13),\n  (78, 14),\n  (78, 16),\n  (79, 9),\n  (79, 10),\n  (79, 11),\n  (79, 12),\n  (79, 13),\n  (79, 14),\n  (79, 16),\n  (80, 11),\n  (80, 12),\n  (80, 13),\n  (80, 14),\n  (80, 16),\n  (81, 13),\n  (81, 14),\n  (81, 16),\n  (82, 16)],\n 2: [(0, 3),\n  (0, 4),\n  (1, 3),\n  (1, 4),\n  (3, 13),\n  (3, 14),\n  (3, 15),\n  (3, 16),\n  (3, 17),\n  (3, 18),\n  (4, 10),\n  (4, 11),\n  (4, 12),\n  (4, 13),\n  (4, 14),\n  (4, 15),\n  (4, 16),\n  (4, 17),\n  (4, 18),\n  (4, 19),\n  (4, 20),\n  (4, 21),\n  (5, 8),\n  (5, 9),\n  (5, 10),\n  (5, 11),\n  (5, 12),\n  (5, 13),\n  (5, 14),\n  (5, 15),\n  (5, 16),\n  (5, 17),\n  (5, 18),\n  (5, 19),\n  (5, 20),\n  (5, 21),\n  (5, 22),\n  (5, 23),\n  (6, 7),\n  (6, 8),\n  (6, 9),\n  (6, 10),\n  (6, 11),\n  (6, 12),\n  (6, 13),\n  (6, 14),\n  (6, 15),\n  (6, 16),\n  (6, 17),\n  (6, 18),\n  (6, 19),\n  (6, 20),\n  (6, 21),\n  (6, 22),\n  (6, 23),\n  (6, 24),\n  (7, 5),\n  (7, 6),\n  (7, 7),\n  (7, 8),\n  (7, 9),\n  (7, 15),\n  (7, 16),\n  (7, 17),\n  (7, 18),\n  (7, 19),\n  (7, 20),\n  (7, 21),\n  (7, 22),\n  (7, 23),\n  (7, 24),\n  (7, 25),\n  (8, 4),\n  (8, 5),\n  (8, 6),\n  (8, 7),\n  (8, 8),\n  (8, 16),\n  (8, 17),\n  (8, 18),\n  (8, 19),\n  (8, 20),\n  (8, 21),\n  (8, 22),\n  (8, 23),\n  (8, 24),\n  (8, 25),\n  (9, 4),\n  (9, 5),\n  (9, 6),\n  (9, 7),\n  (9, 17),\n  (9, 18),\n  (9, 19),\n  (9, 20),\n  (9, 21),\n  (9, 22),\n  (9, 23),\n  (9, 24),\n  (9, 25),\n  (10, 3),\n  (10, 4),\n  (10, 5),\n  (10, 6),\n  (10, 18),\n  (10, 19),\n  (10, 20),\n  (10, 21),\n  (10, 22),\n  (10, 23),\n  (10, 24),\n  (10, 25),\n  (11, 2),\n  (11, 3),\n  (11, 4),\n  (11, 5),\n  (11, 6),\n  (11, 18),\n  (11, 19),\n  (11, 20),\n  (11, 21),\n  (11, 22),\n  (11, 23),\n  (11, 24),\n  (11, 25),\n  (11, 26),\n  (12, 2),\n  (12, 3),\n  (12, 4),\n  (12, 5),\n  (12, 6),\n  (12, 18),\n  (12, 19),\n  (12, 20),\n  (12, 21),\n  (12, 22),\n  (12, 23),\n  (12, 24),\n  (12, 25),\n  (12, 26),\n  (13, 1),\n  (13, 2),\n  (13, 3),\n  (13, 4),\n  (13, 5),\n  (13, 6),\n  (13, 18),\n  (13, 19),\n  (13, 20),\n  (13, 21),\n  (13, 22),\n  (13, 23),\n  (13, 24),\n  (13, 25),\n  (13, 26),\n  (14, 1),\n  (14, 2),\n  (14, 3),\n  (14, 4),\n  (14, 5),\n  (14, 6),\n  (14, 18),\n  (14, 19),\n  (14, 20),\n  (14, 21),\n  (14, 22),\n  (14, 23),\n  (14, 24),\n  (14, 25),\n  (15, 1),\n  (15, 2),\n  (15, 3),\n  (15, 4),\n  (15, 5),\n  (15, 6),\n  (15, 7),\n  (15, 17),\n  (15, 18),\n  (15, 19),\n  (15, 20),\n  (15, 21),\n  (15, 22),\n  (15, 23),\n  (15, 24),\n  (15, 25),\n  (16, 0),\n  (16, 1),\n  (16, 2),\n  (16, 3),\n  (16, 4),\n  (16, 5),\n  (16, 6),\n  (16, 7),\n  (16, 8),\n  (16, 16),\n  (16, 17),\n  (16, 18),\n  (16, 19),\n  (16, 20),\n  (16, 21),\n  (16, 22),\n  (16, 23),\n  (16, 24),\n  (17, 0),\n  (17, 1),\n  (17, 2),\n  (17, 3),\n  (17, 4),\n  (17, 5),\n  (17, 6),\n  (17, 7),\n  (17, 8),\n  (17, 9),\n  (17, 15),\n  (17, 16),\n  (17, 17),\n  (17, 18),\n  (17, 19),\n  (17, 20),\n  (17, 21),\n  (17, 22),\n  (17, 23),\n  (17, 24),\n  (18, 0),\n  (18, 1),\n  (18, 2),\n  (18, 3),\n  (18, 4),\n  (18, 5),\n  (18, 6),\n  (18, 7),\n  (18, 8),\n  (18, 9),\n  (18, 10),\n  (18, 11),\n  (18, 12),\n  (18, 13),\n  (18, 14),\n  (18, 15),\n  (18, 16),\n  (18, 17),\n  (18, 18),\n  (18, 19),\n  (18, 20),\n  (18, 21),\n  (18, 22),\n  (18, 23),\n  (18, 24),\n  (19, 0),\n  (19, 1),\n  (19, 2),\n  (19, 3),\n  (19, 4),\n  (19, 5),\n  (19, 6),\n  (19, 7),\n  (19, 8),\n  (19, 9),\n  (19, 10),\n  (19, 11),\n  (19, 12),\n  (19, 13),\n  (19, 14),\n  (19, 15),\n  (19, 16),\n  (19, 17),\n  (19, 18),\n  (19, 19),\n  (19, 20),\n  (19, 21),\n  (19, 22),\n  (19, 23),\n  (20, 0),\n  (20, 1),\n  (20, 2),\n  (20, 3),\n  (20, 4),\n  (20, 5),\n  (20, 6),\n  (20, 7),\n  (20, 8),\n  (20, 9),\n  (20, 10),\n  (20, 11),\n  (20, 12),\n  (20, 13),\n  (20, 14),\n  (20, 15),\n  (20, 16),\n  (20, 17),\n  (20, 18),\n  (20, 19),\n  (20, 20),\n  (20, 21),\n  (20, 22),\n  (20, 23),\n  (21, 2),\n  (21, 3),\n  (21, 4),\n  (21, 5),\n  (21, 6),\n  (21, 7),\n  (21, 8),\n  (21, 9),\n  (21, 10),\n  (21, 11),\n  (21, 12),\n  (21, 13),\n  (21, 14),\n  (21, 15),\n  (21, 16),\n  (21, 17),\n  (21, 18),\n  (21, 19),\n  (21, 20),\n  (21, 21),\n  (21, 22),\n  (22, 3),\n  (22, 4),\n  (22, 5),\n  (22, 6),\n  (22, 7),\n  (22, 8),\n  (22, 9),\n  (22, 10),\n  (22, 11),\n  (22, 12),\n  (22, 13),\n  (22, 14),\n  (22, 15),\n  (22, 16),\n  (22, 17),\n  (22, 18),\n  (22, 19),\n  (22, 20),\n  (22, 21),\n  (23, 5),\n  (23, 6),\n  (23, 7),\n  (23, 8),\n  (23, 9),\n  (23, 10),\n  (23, 11),\n  (23, 12),\n  (23, 13),\n  (23, 14),\n  (23, 15),\n  (23, 16),\n  (23, 17),\n  (23, 18),\n  (23, 19),\n  (23, 20),\n  (24, 7),\n  (24, 8),\n  (24, 9),\n  (24, 10),\n  (24, 11),\n  (24, 12),\n  (24, 13),\n  (24, 14),\n  (24, 15),\n  (24, 16),\n  (24, 17),\n  (24, 18),\n  (24, 19),\n  (25, 11),\n  (25, 12),\n  (25, 13),\n  (25, 14),\n  (25, 15),\n  (25, 16),\n  (25, 17),\n  (48, 3),\n  (48, 4),\n  (49, 3),\n  (49, 4),\n  (55, 15),\n  (55, 16),\n  (56, 13),\n  (56, 14),\n  (56, 15),\n  (56, 16),\n  (56, 17),\n  (56, 18),\n  (57, 11),\n  (57, 12),\n  (57, 13),\n  (57, 14),\n  (57, 15),\n  (57, 16),\n  (57, 17),\n  (57, 18),\n  (57, 19),\n  (57, 20),\n  (58, 9),\n  (58, 10),\n  (58, 11),\n  (58, 12),\n  (58, 13),\n  (58, 14),\n  (58, 15),\n  (58, 16),\n  (58, 17),\n  (58, 18),\n  (58, 19),\n  (58, 20),\n  (58, 21),\n  (58, 22),\n  (59, 7),\n  (59, 8),\n  (59, 9),\n  (59, 10),\n  (59, 11),\n  (59, 12),\n  (59, 13),\n  (59, 14),\n  (59, 15),\n  (59, 16),\n  (59, 17),\n  (59, 18),\n  (59, 19),\n  (59, 20),\n  (59, 21),\n  (59, 22),\n  (59, 23),\n  (59, 24),\n  (60, 5),\n  (60, 6),\n  (60, 7),\n  (60, 8),\n  (60, 9),\n  (60, 10),\n  (60, 11),\n  (60, 12),\n  (60, 13),\n  (60, 14),\n  (60, 15),\n  (60, 16),\n  (60, 17),\n  (60, 18),\n  (60, 19),\n  (60, 20),\n  (60, 21),\n  (60, 22),\n  (60, 23),\n  (60, 24),\n  (60, 25),\n  (60, 26),\n  (61, 5),\n  (61, 6),\n  (61, 7),\n  (61, 8),\n  (61, 9),\n  (61, 10),\n  (61, 11),\n  (61, 12),\n  (61, 13),\n  (61, 14),\n  (61, 15),\n  (61, 16),\n  (61, 17),\n  (61, 18),\n  (61, 19),\n  (61, 20),\n  (61, 21),\n  (61, 22),\n  (61, 23),\n  (61, 24),\n  (61, 25),\n  (61, 26),\n  (62, 7),\n  (62, 8),\n  (62, 9),\n  (62, 10),\n  (62, 11),\n  (62, 12),\n  (62, 13),\n  (62, 14),\n  (62, 15),\n  (62, 16),\n  (62, 17),\n  (62, 18),\n  (62, 19),\n  (62, 20),\n  (62, 21),\n  (62, 22),\n  (62, 23),\n  (62, 24),\n  (63, 9),\n  (63, 10),\n  (63, 11),\n  (63, 12),\n  (63, 13),\n  (63, 14),\n  (63, 15),\n  (63, 16),\n  (63, 17),\n  (63, 18),\n  (63, 19),\n  (63, 20),\n  (63, 21),\n  (63, 22),\n  (64, 11),\n  (64, 12),\n  (64, 13),\n  (64, 14),\n  (64, 15),\n  (64, 16),\n  (64, 17),\n  (64, 18),\n  (64, 19),\n  (64, 20),\n  (65, 13),\n  (65, 14),\n  (65, 15),\n  (65, 16),\n  (65, 17),\n  (65, 18),\n  (66, 15),\n  (66, 16),\n  (68, 15),\n  (69, 15),\n  (70, 15),\n  (71, 15),\n  (72, 15),\n  (73, 15),\n  (74, 15),\n  (75, 15),\n  (76, 15),\n  (77, 15),\n  (78, 15),\n  (79, 15),\n  (80, 15),\n  (81, 15),\n  (82, 15)],\n 3: [(0, 1),\n  (0, 2),\n  (1, 1),\n  (1, 2),\n  (7, 10),\n  (7, 11),\n  (7, 12),\n  (7, 13),\n  (7, 14),\n  (8, 9),\n  (8, 10),\n  (8, 11),\n  (8, 12),\n  (8, 13),\n  (8, 14),\n  (8, 15),\n  (9, 8),\n  (9, 9),\n  (9, 10),\n  (9, 11),\n  (9, 12),\n  (9, 13),\n  (9, 14),\n  (9, 15),\n  (9, 16),\n  (10, 7),\n  (10, 8),\n  (10, 9),\n  (10, 10),\n  (10, 11),\n  (10, 12),\n  (10, 13),\n  (10, 14),\n  (10, 15),\n  (10, 16),\n  (10, 17),\n  (11, 7),\n  (11, 8),\n  (11, 9),\n  (11, 10),\n  (11, 11),\n  (11, 12),\n  (11, 13),\n  (11, 14),\n  (11, 15),\n  (11, 16),\n  (11, 17),\n  (12, 7),\n  (12, 8),\n  (12, 9),\n  (12, 10),\n  (12, 11),\n  (12, 12),\n  (12, 13),\n  (12, 14),\n  (12, 15),\n  (12, 16),\n  (12, 17),\n  (13, 7),\n  (13, 8),\n  (13, 9),\n  (13, 10),\n  (13, 11),\n  (13, 12),\n  (13, 13),\n  (13, 14),\n  (13, 15),\n  (13, 16),\n  (13, 17),\n  (14, 7),\n  (14, 8),\n  (14, 9),\n  (14, 10),\n  (14, 11),\n  (14, 12),\n  (14, 13),\n  (14, 14),\n  (14, 15),\n  (14, 16),\n  (14, 17),\n  (15, 8),\n  (15, 9),\n  (15, 10),\n  (15, 11),\n  (15, 12),\n  (15, 13),\n  (15, 14),\n  (15, 15),\n  (15, 16),\n  (16, 9),\n  (16, 10),\n  (16, 11),\n  (16, 12),\n  (16, 13),\n  (16, 14),\n  (16, 15),\n  (17, 10),\n  (17, 11),\n  (17, 12),\n  (17, 13),\n  (17, 14),\n  (48, 1),\n  (48, 2),\n  (49, 1),\n  (49, 2),\n  (61, 3),\n  (61, 4),\n  (62, 5),\n  (62, 6),\n  (63, 7),\n  (63, 8),\n  (64, 9),\n  (64, 10),\n  (65, 11),\n  (65, 12),\n  (66, 13),\n  (66, 14),\n  (67, 15)]}"
     },
     "execution_count": 84,
     "metadata": {},
     "output_type": "execute_result"
    }
   ],
   "source": [
    "color_nd_to_position"
   ],
   "metadata": {
    "collapsed": false,
    "ExecuteTime": {
     "end_time": "2023-08-20T20:56:44.551359100Z",
     "start_time": "2023-08-20T20:56:44.441564100Z"
    }
   },
   "id": "24b4cfebcd6b4ade"
  },
  {
   "cell_type": "code",
   "execution_count": 85,
   "outputs": [],
   "source": [
    "\n",
    "\n",
    "def color_maker(hue: int) -> Tuple[\n",
    "    Tuple[int, int, int, int], \n",
    "    Tuple[int, int, int, int], \n",
    "    Tuple[int, int, int, int], \n",
    "    Tuple[int, int, int, int]]:\n",
    "    \n",
    "    return (\n",
    "        make_color0(hue),     \n",
    "        make_color1(hue), \n",
    "        make_color2(hue), \n",
    "        make_color3(hue),) \n",
    "\n",
    "\n",
    "def make_color3(hue: int) -> Tuple[int, int, int, int]:\n",
    "    return hsv2rgba((hue+5)%360, 80, 100)\n",
    "\n",
    "def make_color2(hue: int) -> Tuple[int, int, int, int]:\n",
    "    return hsv2rgba(hue, 100, 100)\n",
    "\n",
    "def make_color1(hue: int) -> Tuple[int, int, int, int]:\n",
    "    return hsv2rgba((hue-5)%360, 100, 80)\n",
    "\n",
    "def make_color0(hue: int) -> Tuple[int, int, int, int]:\n",
    "    return hsv2rgba((hue-10)%360, 100, 40)\n",
    "\n",
    "\n",
    "def hsv2rgba(h,s,v) -> Tuple[int, int, int, int]:\n",
    "    return tuple(round(i * 255) for i in colorsys.hsv_to_rgb(h/360,s/100,v/100)) + (255, )\n",
    "\n"
   ],
   "metadata": {
    "collapsed": false,
    "ExecuteTime": {
     "end_time": "2023-08-20T20:56:44.552359200Z",
     "start_time": "2023-08-20T20:56:44.494619200Z"
    }
   },
   "id": "ddab3e792b4b01eb"
  },
  {
   "cell_type": "code",
   "execution_count": 86,
   "outputs": [
    {
     "data": {
      "text/plain": "(255, 0, 0, 255)"
     },
     "execution_count": 86,
     "metadata": {},
     "output_type": "execute_result"
    }
   ],
   "source": [
    "hsv2rgba(0, 100, 100)"
   ],
   "metadata": {
    "collapsed": false,
    "ExecuteTime": {
     "end_time": "2023-08-20T20:56:44.552359200Z",
     "start_time": "2023-08-20T20:56:44.499041100Z"
    }
   },
   "id": "f9314cc761c50d5c"
  },
  {
   "cell_type": "code",
   "execution_count": 87,
   "outputs": [
    {
     "data": {
      "text/plain": "(83, 32, 4)"
     },
     "execution_count": 87,
     "metadata": {},
     "output_type": "execute_result"
    }
   ],
   "source": [
    "im.shape"
   ],
   "metadata": {
    "collapsed": false,
    "ExecuteTime": {
     "end_time": "2023-08-20T20:56:44.553359400Z",
     "start_time": "2023-08-20T20:56:44.506646600Z"
    }
   },
   "id": "3bfa4f3abc023cc4"
  },
  {
   "cell_type": "code",
   "execution_count": 165,
   "outputs": [],
   "source": [
    "colors: Dict = {hue: color_maker(hue) for hue in range(360)}\n",
    "hue = 180\n",
    "cor = colors[hue]\n",
    "new_im = np.full(im.shape, (0,0,0,0), dtype='uint8')\n"
   ],
   "metadata": {
    "collapsed": false,
    "ExecuteTime": {
     "end_time": "2023-08-20T22:31:32.745996900Z",
     "start_time": "2023-08-20T22:31:32.724533300Z"
    }
   },
   "id": "386ce251e236d94a"
  },
  {
   "cell_type": "code",
   "execution_count": 166,
   "outputs": [],
   "source": [
    "for color_nd, posis in color_nd_to_position.items():\n",
    "    for i, j in posis:\n",
    "        new_im[i, j] = cor[color_nd]"
   ],
   "metadata": {
    "collapsed": false,
    "ExecuteTime": {
     "end_time": "2023-08-20T22:31:33.101029600Z",
     "start_time": "2023-08-20T22:31:33.092345800Z"
    }
   },
   "id": "e749018ca5f2c81a"
  },
  {
   "cell_type": "code",
   "execution_count": 167,
   "outputs": [
    {
     "data": {
      "text/plain": "<Figure size 640x480 with 1 Axes>",
      "image/png": "[encoded data removed]"
     },
     "metadata": {},
     "output_type": "display_data"
    }
   ],
   "source": [
    "plt.imshow(new_im)\n",
    "plt.imsave('coisa.png', new_im)"
   ],
   "metadata": {
    "collapsed": false,
    "ExecuteTime": {
     "end_time": "2023-08-20T22:31:33.601022700Z",
     "start_time": "2023-08-20T22:31:33.479176700Z"
    }
   },
   "id": "5f9db6142798bb71"
  },
  {
   "cell_type": "code",
   "execution_count": 168,
   "outputs": [],
   "source": [
    "img_from_array = Image.fromarray(new_im)"
   ],
   "metadata": {
    "collapsed": false,
    "ExecuteTime": {
     "end_time": "2023-08-20T22:31:34.352236700Z",
     "start_time": "2023-08-20T22:31:34.339162600Z"
    }
   },
   "id": "fbd798dca9150b10"
  },
  {
   "cell_type": "code",
   "execution_count": 169,
   "outputs": [
    {
     "data": {
      "text/plain": "(32, 83)"
     },
     "execution_count": 169,
     "metadata": {},
     "output_type": "execute_result"
    }
   ],
   "source": [
    "img_from_array.size"
   ],
   "metadata": {
    "collapsed": false,
    "ExecuteTime": {
     "end_time": "2023-08-20T22:31:35.148786300Z",
     "start_time": "2023-08-20T22:31:35.141572500Z"
    }
   },
   "id": "346fcddb1ce06423"
  },
  {
   "cell_type": "code",
   "execution_count": 170,
   "outputs": [
    {
     "data": {
      "text/plain": "32"
     },
     "execution_count": 170,
     "metadata": {},
     "output_type": "execute_result"
    }
   ],
   "source": [
    "img_from_array.width"
   ],
   "metadata": {
    "collapsed": false,
    "ExecuteTime": {
     "end_time": "2023-08-20T22:31:35.978235600Z",
     "start_time": "2023-08-20T22:31:35.967471Z"
    }
   },
   "id": "b710dad800c46f19"
  },
  {
   "cell_type": "code",
   "execution_count": 182,
   "outputs": [],
   "source": [
    "res_img = Image.new('RGBA', (100,img_from_array.height))\n",
    "res_img.paste(img_from_array)\n",
    "img_writer = ImageDraw.Draw(res_img)\n",
    "r, g, b, _ = hsv2rgba(hue, 100, 100)\n",
    "img_writer.text((60, 10), \"HUE\", fill=(r, g, b))\n",
    "img_writer.text((60, 20), str(hue), fill=(r, g, b))\n",
    "img_writer.text((40, 30), \"R\", fill=(250, 0, 0))\n",
    "img_writer.text((40, 40), str(r), fill=(250, 0, 0))\n",
    "img_writer.text((60, 30), \"G\", fill=(0, 255, 0))\n",
    "img_writer.text((60, 40), str(g), fill=(0, 255, 0))\n",
    "img_writer.text((80, 30), \"B\", fill=(0, 0, 255))\n",
    "img_writer.text((80, 40), str(b), fill=(0, 0, 255))\n"
   ],
   "metadata": {
    "collapsed": false,
    "ExecuteTime": {
     "end_time": "2023-08-20T22:35:06.498780700Z",
     "start_time": "2023-08-20T22:35:06.479664500Z"
    }
   },
   "id": "1b5dd957687a22dc"
  },
  {
   "cell_type": "code",
   "execution_count": 183,
   "outputs": [],
   "source": [
    "res_img.show()\n"
   ],
   "metadata": {
    "collapsed": false,
    "ExecuteTime": {
     "end_time": "2023-08-20T22:35:10.400887800Z",
     "start_time": "2023-08-20T22:35:07.000060Z"
    }
   },
   "id": "3959704fdc2ec2e5"
  },
  {
   "cell_type": "code",
   "execution_count": 177,
   "outputs": [],
   "source": [
    "Im.text((6, 5), \"Marilyn Monroe\", fill=(250, 0, 0))"
   ],
   "metadata": {
    "collapsed": false,
    "ExecuteTime": {
     "end_time": "2023-08-20T22:32:00.939685900Z",
     "start_time": "2023-08-20T22:32:00.932046500Z"
    }
   },
   "id": "cb592959e81958d6"
  },
  {
   "cell_type": "code",
   "execution_count": 121,
   "outputs": [],
   "source": [
    "img.show()"
   ],
   "metadata": {
    "collapsed": false,
    "ExecuteTime": {
     "end_time": "2023-08-20T21:53:32.680905600Z",
     "start_time": "2023-08-20T21:53:29.286701800Z"
    }
   },
   "id": "33bd008bf201b7a0"
  },
  {
   "cell_type": "code",
   "execution_count": 92,
   "outputs": [],
   "source": [
    "def make_img_from(hue, cor: Tuple) -> np.ndarray:\n",
    "    new_im = np.full(im.shape, (0,0,0,0), dtype='uint8')\n",
    "    \n",
    "    for color_nd, posis in color_nd_to_position.items():\n",
    "        for i, j in posis:\n",
    "            new_im[i, j] = cor[color_nd]\n",
    "    return new_im"
   ],
   "metadata": {
    "collapsed": false,
    "ExecuteTime": {
     "end_time": "2023-08-20T20:56:44.665494400Z",
     "start_time": "2023-08-20T20:56:44.650625300Z"
    }
   },
   "id": "d93062b5a0fe4f8f"
  },
  {
   "cell_type": "code",
   "execution_count": 189,
   "outputs": [],
   "source": [
    "imgs_dir = 'output/images/'\n",
    "os.makedirs(imgs_dir, exist_ok=True)\n",
    "gif_dir = 'output/animation/'\n",
    "os.makedirs(gif_dir, exist_ok=True)\n"
   ],
   "metadata": {
    "collapsed": false,
    "ExecuteTime": {
     "end_time": "2023-08-20T22:42:10.959598200Z",
     "start_time": "2023-08-20T22:42:10.939633900Z"
    }
   },
   "id": "33901fccccde3c9"
  },
  {
   "cell_type": "code",
   "execution_count": 190,
   "outputs": [],
   "source": [
    "colors: Dict = {hue: color_maker(hue) for hue in range(360)}\n",
    "for hue, cor in colors.items():\n",
    "    img_array = make_img_from(hue, cor)\n",
    "    img_from_array = Image.fromarray(img_array)\n",
    "    \n",
    "    Image.\n",
    "    res_img = Image.new('RGBA', (100,img_from_array.height))\n",
    "    res_img.paste(img_from_array)\n",
    "    img_writer = ImageDraw.Draw(res_img)\n",
    "    r, g, b, _ = hsv2rgba(hue, 100, 100)\n",
    "    img_writer.text((60, 10), \"HUE\", fill=(r, g, b))\n",
    "    img_writer.text((60, 20), str(hue), fill=(r, g, b))\n",
    "    img_writer.text((40, 30), \"R\", fill=(250, 0, 0))\n",
    "    img_writer.text((40, 40), str(r), fill=(250, 0, 0))\n",
    "    img_writer.text((60, 30), \"G\", fill=(0, 255, 0))\n",
    "    img_writer.text((60, 40), str(g), fill=(0, 255, 0))\n",
    "    img_writer.text((80, 30), \"B\", fill=(0, 0, 255))\n",
    "    img_writer.text((80, 40), str(b), fill=(0, 0, 255))\n",
    "\n",
    "    res_img.save(imgs_dir+f'img{hue:03d}.png')\n",
    "    res_img.close()\n",
    "    \n"
   ],
   "metadata": {
    "collapsed": false,
    "ExecuteTime": {
     "end_time": "2023-08-20T22:42:12.407085600Z",
     "start_time": "2023-08-20T22:42:11.453278Z"
    }
   },
   "id": "b37f1043ed75eb17"
  },
  {
   "cell_type": "code",
   "execution_count": 95,
   "outputs": [
    {
     "data": {
      "text/plain": "'021'"
     },
     "execution_count": 95,
     "metadata": {},
     "output_type": "execute_result"
    }
   ],
   "source": [
    "f'{21:03d}'"
   ],
   "metadata": {
    "collapsed": false,
    "ExecuteTime": {
     "end_time": "2023-08-20T20:56:45.397539100Z",
     "start_time": "2023-08-20T20:56:45.355739400Z"
    }
   },
   "id": "5fee41fa50376dcd"
  },
  {
   "cell_type": "code",
   "execution_count": 195,
   "outputs": [],
   "source": [
    "frames = [Image.open(image) for image in glob.glob(f\"{imgs_dir}/*.png\")]\n",
    "frame_one = frames[0]\n",
    "frame_one.save(\"animation.gif\", format=\"GIF\", append_images=frames,\n",
    "               save_all=True, duration=100, loop=0, disposal=2)"
   ],
   "metadata": {
    "collapsed": false,
    "ExecuteTime": {
     "end_time": "2023-08-20T22:59:44.655666Z",
     "start_time": "2023-08-20T22:59:44.289520300Z"
    }
   },
   "id": "361506ae02f93703"
  },
  {
   "cell_type": "code",
   "execution_count": 103,
   "outputs": [
    {
     "data": {
      "text/plain": "[<PIL.PngImagePlugin.PngImageFile image mode=RGBA size=32x83>,\n <PIL.PngImagePlugin.PngImageFile image mode=RGBA size=32x83>,\n <PIL.PngImagePlugin.PngImageFile image mode=RGBA size=32x83>,\n <PIL.PngImagePlugin.PngImageFile image mode=RGBA size=32x83>,\n <PIL.PngImagePlugin.PngImageFile image mode=RGBA size=32x83>,\n <PIL.PngImagePlugin.PngImageFile image mode=RGBA size=32x83>,\n <PIL.PngImagePlugin.PngImageFile image mode=RGBA size=32x83>,\n <PIL.PngImagePlugin.PngImageFile image mode=RGBA size=32x83>,\n <PIL.PngImagePlugin.PngImageFile image mode=RGBA size=32x83>,\n <PIL.PngImagePlugin.PngImageFile image mode=RGBA size=32x83>,\n <PIL.PngImagePlugin.PngImageFile image mode=RGBA size=32x83>,\n <PIL.PngImagePlugin.PngImageFile image mode=RGBA size=32x83>,\n <PIL.PngImagePlugin.PngImageFile image mode=RGBA size=32x83>,\n <PIL.PngImagePlugin.PngImageFile image mode=RGBA size=32x83>,\n <PIL.PngImagePlugin.PngImageFile image mode=RGBA size=32x83>,\n <PIL.PngImagePlugin.PngImageFile image mode=RGBA size=32x83>,\n <PIL.PngImagePlugin.PngImageFile image mode=RGBA size=32x83>,\n <PIL.PngImagePlugin.PngImageFile image mode=RGBA size=32x83>,\n <PIL.PngImagePlugin.PngImageFile image mode=RGBA size=32x83>,\n <PIL.PngImagePlugin.PngImageFile image mode=RGBA size=32x83>,\n <PIL.PngImagePlugin.PngImageFile image mode=RGBA size=32x83>,\n <PIL.PngImagePlugin.PngImageFile image mode=RGBA size=32x83>,\n <PIL.PngImagePlugin.PngImageFile image mode=RGBA size=32x83>,\n <PIL.PngImagePlugin.PngImageFile image mode=RGBA size=32x83>,\n <PIL.PngImagePlugin.PngImageFile image mode=RGBA size=32x83>,\n <PIL.PngImagePlugin.PngImageFile image mode=RGBA size=32x83>,\n <PIL.PngImagePlugin.PngImageFile image mode=RGBA size=32x83>,\n <PIL.PngImagePlugin.PngImageFile image mode=RGBA size=32x83>,\n <PIL.PngImagePlugin.PngImageFile image mode=RGBA size=32x83>,\n <PIL.PngImagePlugin.PngImageFile image mode=RGBA size=32x83>,\n <PIL.PngImagePlugin.PngImageFile image mode=RGBA size=32x83>,\n <PIL.PngImagePlugin.PngImageFile image mode=RGBA size=32x83>,\n <PIL.PngImagePlugin.PngImageFile image mode=RGBA size=32x83>,\n <PIL.PngImagePlugin.PngImageFile image mode=RGBA size=32x83>,\n <PIL.PngImagePlugin.PngImageFile image mode=RGBA size=32x83>,\n <PIL.PngImagePlugin.PngImageFile image mode=RGBA size=32x83>,\n <PIL.PngImagePlugin.PngImageFile image mode=RGBA size=32x83>,\n <PIL.PngImagePlugin.PngImageFile image mode=RGBA size=32x83>,\n <PIL.PngImagePlugin.PngImageFile image mode=RGBA size=32x83>,\n <PIL.PngImagePlugin.PngImageFile image mode=RGBA size=32x83>,\n <PIL.PngImagePlugin.PngImageFile image mode=RGBA size=32x83>,\n <PIL.PngImagePlugin.PngImageFile image mode=RGBA size=32x83>,\n <PIL.PngImagePlugin.PngImageFile image mode=RGBA size=32x83>,\n <PIL.PngImagePlugin.PngImageFile image mode=RGBA size=32x83>,\n <PIL.PngImagePlugin.PngImageFile image mode=RGBA size=32x83>,\n <PIL.PngImagePlugin.PngImageFile image mode=RGBA size=32x83>,\n <PIL.PngImagePlugin.PngImageFile image mode=RGBA size=32x83>,\n <PIL.PngImagePlugin.PngImageFile image mode=RGBA size=32x83>,\n <PIL.PngImagePlugin.PngImageFile image mode=RGBA size=32x83>,\n <PIL.PngImagePlugin.PngImageFile image mode=RGBA size=32x83>,\n <PIL.PngImagePlugin.PngImageFile image mode=RGBA size=32x83>,\n <PIL.PngImagePlugin.PngImageFile image mode=RGBA size=32x83>,\n <PIL.PngImagePlugin.PngImageFile image mode=RGBA size=32x83>,\n <PIL.PngImagePlugin.PngImageFile image mode=RGBA size=32x83>,\n <PIL.PngImagePlugin.PngImageFile image mode=RGBA size=32x83>,\n <PIL.PngImagePlugin.PngImageFile image mode=RGBA size=32x83>,\n <PIL.PngImagePlugin.PngImageFile image mode=RGBA size=32x83>,\n <PIL.PngImagePlugin.PngImageFile image mode=RGBA size=32x83>,\n <PIL.PngImagePlugin.PngImageFile image mode=RGBA size=32x83>,\n <PIL.PngImagePlugin.PngImageFile image mode=RGBA size=32x83>,\n <PIL.PngImagePlugin.PngImageFile image mode=RGBA size=32x83>,\n <PIL.PngImagePlugin.PngImageFile image mode=RGBA size=32x83>,\n <PIL.PngImagePlugin.PngImageFile image mode=RGBA size=32x83>,\n <PIL.PngImagePlugin.PngImageFile image mode=RGBA size=32x83>,\n <PIL.PngImagePlugin.PngImageFile image mode=RGBA size=32x83>,\n <PIL.PngImagePlugin.PngImageFile image mode=RGBA size=32x83>,\n <PIL.PngImagePlugin.PngImageFile image mode=RGBA size=32x83>,\n <PIL.PngImagePlugin.PngImageFile image mode=RGBA size=32x83>,\n <PIL.PngImagePlugin.PngImageFile image mode=RGBA size=32x83>,\n <PIL.PngImagePlugin.PngImageFile image mode=RGBA size=32x83>,\n <PIL.PngImagePlugin.PngImageFile image mode=RGBA size=32x83>,\n <PIL.PngImagePlugin.PngImageFile image mode=RGBA size=32x83>,\n <PIL.PngImagePlugin.PngImageFile image mode=RGBA size=32x83>,\n <PIL.PngImagePlugin.PngImageFile image mode=RGBA size=32x83>,\n <PIL.PngImagePlugin.PngImageFile image mode=RGBA size=32x83>,\n <PIL.PngImagePlugin.PngImageFile image mode=RGBA size=32x83>,\n <PIL.PngImagePlugin.PngImageFile image mode=RGBA size=32x83>,\n <PIL.PngImagePlugin.PngImageFile image mode=RGBA size=32x83>,\n <PIL.PngImagePlugin.PngImageFile image mode=RGBA size=32x83>,\n <PIL.PngImagePlugin.PngImageFile image mode=RGBA size=32x83>,\n <PIL.PngImagePlugin.PngImageFile image mode=RGBA size=32x83>,\n <PIL.PngImagePlugin.PngImageFile image mode=RGBA size=32x83>,\n <PIL.PngImagePlugin.PngImageFile image mode=RGBA size=32x83>,\n <PIL.PngImagePlugin.PngImageFile image mode=RGBA size=32x83>,\n <PIL.PngImagePlugin.PngImageFile image mode=RGBA size=32x83>,\n <PIL.PngImagePlugin.PngImageFile image mode=RGBA size=32x83>,\n <PIL.PngImagePlugin.PngImageFile image mode=RGBA size=32x83>,\n <PIL.PngImagePlugin.PngImageFile image mode=RGBA size=32x83>,\n <PIL.PngImagePlugin.PngImageFile image mode=RGBA size=32x83>,\n <PIL.PngImagePlugin.PngImageFile image mode=RGBA size=32x83>,\n <PIL.PngImagePlugin.PngImageFile image mode=RGBA size=32x83>,\n <PIL.PngImagePlugin.PngImageFile image mode=RGBA size=32x83>,\n <PIL.PngImagePlugin.PngImageFile image mode=RGBA size=32x83>,\n <PIL.PngImagePlugin.PngImageFile image mode=RGBA size=32x83>,\n <PIL.PngImagePlugin.PngImageFile image mode=RGBA size=32x83>,\n <PIL.PngImagePlugin.PngImageFile image mode=RGBA size=32x83>,\n <PIL.PngImagePlugin.PngImageFile image mode=RGBA size=32x83>,\n <PIL.PngImagePlugin.PngImageFile image mode=RGBA size=32x83>,\n <PIL.PngImagePlugin.PngImageFile image mode=RGBA size=32x83>,\n <PIL.PngImagePlugin.PngImageFile image mode=RGBA size=32x83>,\n <PIL.PngImagePlugin.PngImageFile image mode=RGBA size=32x83>,\n <PIL.PngImagePlugin.PngImageFile image mode=RGBA size=32x83>,\n <PIL.PngImagePlugin.PngImageFile image mode=RGBA size=32x83>,\n <PIL.PngImagePlugin.PngImageFile image mode=RGBA size=32x83>,\n <PIL.PngImagePlugin.PngImageFile image mode=RGBA size=32x83>,\n <PIL.PngImagePlugin.PngImageFile image mode=RGBA size=32x83>,\n <PIL.PngImagePlugin.PngImageFile image mode=RGBA size=32x83>,\n <PIL.PngImagePlugin.PngImageFile image mode=RGBA size=32x83>,\n <PIL.PngImagePlugin.PngImageFile image mode=RGBA size=32x83>,\n <PIL.PngImagePlugin.PngImageFile image mode=RGBA size=32x83>,\n <PIL.PngImagePlugin.PngImageFile image mode=RGBA size=32x83>,\n <PIL.PngImagePlugin.PngImageFile image mode=RGBA size=32x83>,\n <PIL.PngImagePlugin.PngImageFile image mode=RGBA size=32x83>,\n <PIL.PngImagePlugin.PngImageFile image mode=RGBA size=32x83>,\n <PIL.PngImagePlugin.PngImageFile image mode=RGBA size=32x83>,\n <PIL.PngImagePlugin.PngImageFile image mode=RGBA size=32x83>,\n <PIL.PngImagePlugin.PngImageFile image mode=RGBA size=32x83>,\n <PIL.PngImagePlugin.PngImageFile image mode=RGBA size=32x83>,\n <PIL.PngImagePlugin.PngImageFile image mode=RGBA size=32x83>,\n <PIL.PngImagePlugin.PngImageFile image mode=RGBA size=32x83>,\n <PIL.PngImagePlugin.PngImageFile image mode=RGBA size=32x83>,\n <PIL.PngImagePlugin.PngImageFile image mode=RGBA size=32x83>,\n <PIL.PngImagePlugin.PngImageFile image mode=RGBA size=32x83>,\n <PIL.PngImagePlugin.PngImageFile image mode=RGBA size=32x83>,\n <PIL.PngImagePlugin.PngImageFile image mode=RGBA size=32x83>,\n <PIL.PngImagePlugin.PngImageFile image mode=RGBA size=32x83>,\n <PIL.PngImagePlugin.PngImageFile image mode=RGBA size=32x83>,\n <PIL.PngImagePlugin.PngImageFile image mode=RGBA size=32x83>,\n <PIL.PngImagePlugin.PngImageFile image mode=RGBA size=32x83>,\n <PIL.PngImagePlugin.PngImageFile image mode=RGBA size=32x83>,\n <PIL.PngImagePlugin.PngImageFile image mode=RGBA size=32x83>,\n <PIL.PngImagePlugin.PngImageFile image mode=RGBA size=32x83>,\n <PIL.PngImagePlugin.PngImageFile image mode=RGBA size=32x83>,\n <PIL.PngImagePlugin.PngImageFile image mode=RGBA size=32x83>,\n <PIL.PngImagePlugin.PngImageFile image mode=RGBA size=32x83>,\n <PIL.PngImagePlugin.PngImageFile image mode=RGBA size=32x83>,\n <PIL.PngImagePlugin.PngImageFile image mode=RGBA size=32x83>,\n <PIL.PngImagePlugin.PngImageFile image mode=RGBA size=32x83>,\n <PIL.PngImagePlugin.PngImageFile image mode=RGBA size=32x83>,\n <PIL.PngImagePlugin.PngImageFile image mode=RGBA size=32x83>,\n <PIL.PngImagePlugin.PngImageFile image mode=RGBA size=32x83>,\n <PIL.PngImagePlugin.PngImageFile image mode=RGBA size=32x83>,\n <PIL.PngImagePlugin.PngImageFile image mode=RGBA size=32x83>,\n <PIL.PngImagePlugin.PngImageFile image mode=RGBA size=32x83>,\n <PIL.PngImagePlugin.PngImageFile image mode=RGBA size=32x83>,\n <PIL.PngImagePlugin.PngImageFile image mode=RGBA size=32x83>,\n <PIL.PngImagePlugin.PngImageFile image mode=RGBA size=32x83>,\n <PIL.PngImagePlugin.PngImageFile image mode=RGBA size=32x83>,\n <PIL.PngImagePlugin.PngImageFile image mode=RGBA size=32x83>,\n <PIL.PngImagePlugin.PngImageFile image mode=RGBA size=32x83>,\n <PIL.PngImagePlugin.PngImageFile image mode=RGBA size=32x83>,\n <PIL.PngImagePlugin.PngImageFile image mode=RGBA size=32x83>,\n <PIL.PngImagePlugin.PngImageFile image mode=RGBA size=32x83>,\n <PIL.PngImagePlugin.PngImageFile image mode=RGBA size=32x83>,\n <PIL.PngImagePlugin.PngImageFile image mode=RGBA size=32x83>,\n <PIL.PngImagePlugin.PngImageFile image mode=RGBA size=32x83>,\n <PIL.PngImagePlugin.PngImageFile image mode=RGBA size=32x83>,\n <PIL.PngImagePlugin.PngImageFile image mode=RGBA size=32x83>,\n <PIL.PngImagePlugin.PngImageFile image mode=RGBA size=32x83>,\n <PIL.PngImagePlugin.PngImageFile image mode=RGBA size=32x83>,\n <PIL.PngImagePlugin.PngImageFile image mode=RGBA size=32x83>,\n <PIL.PngImagePlugin.PngImageFile image mode=RGBA size=32x83>,\n <PIL.PngImagePlugin.PngImageFile image mode=RGBA size=32x83>,\n <PIL.PngImagePlugin.PngImageFile image mode=RGBA size=32x83>,\n <PIL.PngImagePlugin.PngImageFile image mode=RGBA size=32x83>,\n <PIL.PngImagePlugin.PngImageFile image mode=RGBA size=32x83>,\n <PIL.PngImagePlugin.PngImageFile image mode=RGBA size=32x83>,\n <PIL.PngImagePlugin.PngImageFile image mode=RGBA size=32x83>,\n <PIL.PngImagePlugin.PngImageFile image mode=RGBA size=32x83>,\n <PIL.PngImagePlugin.PngImageFile image mode=RGBA size=32x83>,\n <PIL.PngImagePlugin.PngImageFile image mode=RGBA size=32x83>,\n <PIL.PngImagePlugin.PngImageFile image mode=RGBA size=32x83>,\n <PIL.PngImagePlugin.PngImageFile image mode=RGBA size=32x83>,\n <PIL.PngImagePlugin.PngImageFile image mode=RGBA size=32x83>,\n <PIL.PngImagePlugin.PngImageFile image mode=RGBA size=32x83>,\n <PIL.PngImagePlugin.PngImageFile image mode=RGBA size=32x83>,\n <PIL.PngImagePlugin.PngImageFile image mode=RGBA size=32x83>,\n <PIL.PngImagePlugin.PngImageFile image mode=RGBA size=32x83>,\n <PIL.PngImagePlugin.PngImageFile image mode=RGBA size=32x83>,\n <PIL.PngImagePlugin.PngImageFile image mode=RGBA size=32x83>,\n <PIL.PngImagePlugin.PngImageFile image mode=RGBA size=32x83>,\n <PIL.PngImagePlugin.PngImageFile image mode=RGBA size=32x83>,\n <PIL.PngImagePlugin.PngImageFile image mode=RGBA size=32x83>,\n <PIL.PngImagePlugin.PngImageFile image mode=RGBA size=32x83>,\n <PIL.PngImagePlugin.PngImageFile image mode=RGBA size=32x83>,\n <PIL.PngImagePlugin.PngImageFile image mode=RGBA size=32x83>,\n <PIL.PngImagePlugin.PngImageFile image mode=RGBA size=32x83>,\n <PIL.PngImagePlugin.PngImageFile image mode=RGBA size=32x83>,\n <PIL.PngImagePlugin.PngImageFile image mode=RGBA size=32x83>,\n <PIL.PngImagePlugin.PngImageFile image mode=RGBA size=32x83>,\n <PIL.PngImagePlugin.PngImageFile image mode=RGBA size=32x83>,\n <PIL.PngImagePlugin.PngImageFile image mode=RGBA size=32x83>,\n <PIL.PngImagePlugin.PngImageFile image mode=RGBA size=32x83>,\n <PIL.PngImagePlugin.PngImageFile image mode=RGBA size=32x83>,\n <PIL.PngImagePlugin.PngImageFile image mode=RGBA size=32x83>,\n <PIL.PngImagePlugin.PngImageFile image mode=RGBA size=32x83>,\n <PIL.PngImagePlugin.PngImageFile image mode=RGBA size=32x83>,\n <PIL.PngImagePlugin.PngImageFile image mode=RGBA size=32x83>,\n <PIL.PngImagePlugin.PngImageFile image mode=RGBA size=32x83>,\n <PIL.PngImagePlugin.PngImageFile image mode=RGBA size=32x83>,\n <PIL.PngImagePlugin.PngImageFile image mode=RGBA size=32x83>,\n <PIL.PngImagePlugin.PngImageFile image mode=RGBA size=32x83>,\n <PIL.PngImagePlugin.PngImageFile image mode=RGBA size=32x83>,\n <PIL.PngImagePlugin.PngImageFile image mode=RGBA size=32x83>,\n <PIL.PngImagePlugin.PngImageFile image mode=RGBA size=32x83>,\n <PIL.PngImagePlugin.PngImageFile image mode=RGBA size=32x83>,\n <PIL.PngImagePlugin.PngImageFile image mode=RGBA size=32x83>,\n <PIL.PngImagePlugin.PngImageFile image mode=RGBA size=32x83>,\n <PIL.PngImagePlugin.PngImageFile image mode=RGBA size=32x83>,\n <PIL.PngImagePlugin.PngImageFile image mode=RGBA size=32x83>,\n <PIL.PngImagePlugin.PngImageFile image mode=RGBA size=32x83>,\n <PIL.PngImagePlugin.PngImageFile image mode=RGBA size=32x83>,\n <PIL.PngImagePlugin.PngImageFile image mode=RGBA size=32x83>,\n <PIL.PngImagePlugin.PngImageFile image mode=RGBA size=32x83>,\n <PIL.PngImagePlugin.PngImageFile image mode=RGBA size=32x83>,\n <PIL.PngImagePlugin.PngImageFile image mode=RGBA size=32x83>,\n <PIL.PngImagePlugin.PngImageFile image mode=RGBA size=32x83>,\n <PIL.PngImagePlugin.PngImageFile image mode=RGBA size=32x83>,\n <PIL.PngImagePlugin.PngImageFile image mode=RGBA size=32x83>,\n <PIL.PngImagePlugin.PngImageFile image mode=RGBA size=32x83>,\n <PIL.PngImagePlugin.PngImageFile image mode=RGBA size=32x83>,\n <PIL.PngImagePlugin.PngImageFile image mode=RGBA size=32x83>,\n <PIL.PngImagePlugin.PngImageFile image mode=RGBA size=32x83>,\n <PIL.PngImagePlugin.PngImageFile image mode=RGBA size=32x83>,\n <PIL.PngImagePlugin.PngImageFile image mode=RGBA size=32x83>,\n <PIL.PngImagePlugin.PngImageFile image mode=RGBA size=32x83>,\n <PIL.PngImagePlugin.PngImageFile image mode=RGBA size=32x83>,\n <PIL.PngImagePlugin.PngImageFile image mode=RGBA size=32x83>,\n <PIL.PngImagePlugin.PngImageFile image mode=RGBA size=32x83>,\n <PIL.PngImagePlugin.PngImageFile image mode=RGBA size=32x83>,\n <PIL.PngImagePlugin.PngImageFile image mode=RGBA size=32x83>,\n <PIL.PngImagePlugin.PngImageFile image mode=RGBA size=32x83>,\n <PIL.PngImagePlugin.PngImageFile image mode=RGBA size=32x83>,\n <PIL.PngImagePlugin.PngImageFile image mode=RGBA size=32x83>,\n <PIL.PngImagePlugin.PngImageFile image mode=RGBA size=32x83>,\n <PIL.PngImagePlugin.PngImageFile image mode=RGBA size=32x83>,\n <PIL.PngImagePlugin.PngImageFile image mode=RGBA size=32x83>,\n <PIL.PngImagePlugin.PngImageFile image mode=RGBA size=32x83>,\n <PIL.PngImagePlugin.PngImageFile image mode=RGBA size=32x83>,\n <PIL.PngImagePlugin.PngImageFile image mode=RGBA size=32x83>,\n <PIL.PngImagePlugin.PngImageFile image mode=RGBA size=32x83>,\n <PIL.PngImagePlugin.PngImageFile image mode=RGBA size=32x83>,\n <PIL.PngImagePlugin.PngImageFile image mode=RGBA size=32x83>,\n <PIL.PngImagePlugin.PngImageFile image mode=RGBA size=32x83>,\n <PIL.PngImagePlugin.PngImageFile image mode=RGBA size=32x83>,\n <PIL.PngImagePlugin.PngImageFile image mode=RGBA size=32x83>,\n <PIL.PngImagePlugin.PngImageFile image mode=RGBA size=32x83>,\n <PIL.PngImagePlugin.PngImageFile image mode=RGBA size=32x83>,\n <PIL.PngImagePlugin.PngImageFile image mode=RGBA size=32x83>,\n <PIL.PngImagePlugin.PngImageFile image mode=RGBA size=32x83>,\n <PIL.PngImagePlugin.PngImageFile image mode=RGBA size=32x83>,\n <PIL.PngImagePlugin.PngImageFile image mode=RGBA size=32x83>,\n <PIL.PngImagePlugin.PngImageFile image mode=RGBA size=32x83>,\n <PIL.PngImagePlugin.PngImageFile image mode=RGBA size=32x83>,\n <PIL.PngImagePlugin.PngImageFile image mode=RGBA size=32x83>,\n <PIL.PngImagePlugin.PngImageFile image mode=RGBA size=32x83>,\n <PIL.PngImagePlugin.PngImageFile image mode=RGBA size=32x83>,\n <PIL.PngImagePlugin.PngImageFile image mode=RGBA size=32x83>,\n <PIL.PngImagePlugin.PngImageFile image mode=RGBA size=32x83>,\n <PIL.PngImagePlugin.PngImageFile image mode=RGBA size=32x83>,\n <PIL.PngImagePlugin.PngImageFile image mode=RGBA size=32x83>,\n <PIL.PngImagePlugin.PngImageFile image mode=RGBA size=32x83>,\n <PIL.PngImagePlugin.PngImageFile image mode=RGBA size=32x83>,\n <PIL.PngImagePlugin.PngImageFile image mode=RGBA size=32x83>,\n <PIL.PngImagePlugin.PngImageFile image mode=RGBA size=32x83>,\n <PIL.PngImagePlugin.PngImageFile image mode=RGBA size=32x83>,\n <PIL.PngImagePlugin.PngImageFile image mode=RGBA size=32x83>,\n <PIL.PngImagePlugin.PngImageFile image mode=RGBA size=32x83>,\n <PIL.PngImagePlugin.PngImageFile image mode=RGBA size=32x83>,\n <PIL.PngImagePlugin.PngImageFile image mode=RGBA size=32x83>,\n <PIL.PngImagePlugin.PngImageFile image mode=RGBA size=32x83>,\n <PIL.PngImagePlugin.PngImageFile image mode=RGBA size=32x83>,\n <PIL.PngImagePlugin.PngImageFile image mode=RGBA size=32x83>,\n <PIL.PngImagePlugin.PngImageFile image mode=RGBA size=32x83>,\n <PIL.PngImagePlugin.PngImageFile image mode=RGBA size=32x83>,\n <PIL.PngImagePlugin.PngImageFile image mode=RGBA size=32x83>,\n <PIL.PngImagePlugin.PngImageFile image mode=RGBA size=32x83>,\n <PIL.PngImagePlugin.PngImageFile image mode=RGBA size=32x83>,\n <PIL.PngImagePlugin.PngImageFile image mode=RGBA size=32x83>,\n <PIL.PngImagePlugin.PngImageFile image mode=RGBA size=32x83>,\n <PIL.PngImagePlugin.PngImageFile image mode=RGBA size=32x83>,\n <PIL.PngImagePlugin.PngImageFile image mode=RGBA size=32x83>,\n <PIL.PngImagePlugin.PngImageFile image mode=RGBA size=32x83>,\n <PIL.PngImagePlugin.PngImageFile image mode=RGBA size=32x83>,\n <PIL.PngImagePlugin.PngImageFile image mode=RGBA size=32x83>,\n <PIL.PngImagePlugin.PngImageFile image mode=RGBA size=32x83>,\n <PIL.PngImagePlugin.PngImageFile image mode=RGBA size=32x83>,\n <PIL.PngImagePlugin.PngImageFile image mode=RGBA size=32x83>,\n <PIL.PngImagePlugin.PngImageFile image mode=RGBA size=32x83>,\n <PIL.PngImagePlugin.PngImageFile image mode=RGBA size=32x83>,\n <PIL.PngImagePlugin.PngImageFile image mode=RGBA size=32x83>,\n <PIL.PngImagePlugin.PngImageFile image mode=RGBA size=32x83>,\n <PIL.PngImagePlugin.PngImageFile image mode=RGBA size=32x83>,\n <PIL.PngImagePlugin.PngImageFile image mode=RGBA size=32x83>,\n <PIL.PngImagePlugin.PngImageFile image mode=RGBA size=32x83>,\n <PIL.PngImagePlugin.PngImageFile image mode=RGBA size=32x83>,\n <PIL.PngImagePlugin.PngImageFile image mode=RGBA size=32x83>,\n <PIL.PngImagePlugin.PngImageFile image mode=RGBA size=32x83>,\n <PIL.PngImagePlugin.PngImageFile image mode=RGBA size=32x83>,\n <PIL.PngImagePlugin.PngImageFile image mode=RGBA size=32x83>,\n <PIL.PngImagePlugin.PngImageFile image mode=RGBA size=32x83>,\n <PIL.PngImagePlugin.PngImageFile image mode=RGBA size=32x83>,\n <PIL.PngImagePlugin.PngImageFile image mode=RGBA size=32x83>,\n <PIL.PngImagePlugin.PngImageFile image mode=RGBA size=32x83>,\n <PIL.PngImagePlugin.PngImageFile image mode=RGBA size=32x83>,\n <PIL.PngImagePlugin.PngImageFile image mode=RGBA size=32x83>,\n <PIL.PngImagePlugin.PngImageFile image mode=RGBA size=32x83>,\n <PIL.PngImagePlugin.PngImageFile image mode=RGBA size=32x83>,\n <PIL.PngImagePlugin.PngImageFile image mode=RGBA size=32x83>,\n <PIL.PngImagePlugin.PngImageFile image mode=RGBA size=32x83>,\n <PIL.PngImagePlugin.PngImageFile image mode=RGBA size=32x83>,\n <PIL.PngImagePlugin.PngImageFile image mode=RGBA size=32x83>,\n <PIL.PngImagePlugin.PngImageFile image mode=RGBA size=32x83>,\n <PIL.PngImagePlugin.PngImageFile image mode=RGBA size=32x83>,\n <PIL.PngImagePlugin.PngImageFile image mode=RGBA size=32x83>,\n <PIL.PngImagePlugin.PngImageFile image mode=RGBA size=32x83>,\n <PIL.PngImagePlugin.PngImageFile image mode=RGBA size=32x83>,\n <PIL.PngImagePlugin.PngImageFile image mode=RGBA size=32x83>,\n <PIL.PngImagePlugin.PngImageFile image mode=RGBA size=32x83>,\n <PIL.PngImagePlugin.PngImageFile image mode=RGBA size=32x83>,\n <PIL.PngImagePlugin.PngImageFile image mode=RGBA size=32x83>,\n <PIL.PngImagePlugin.PngImageFile image mode=RGBA size=32x83>,\n <PIL.PngImagePlugin.PngImageFile image mode=RGBA size=32x83>,\n <PIL.PngImagePlugin.PngImageFile image mode=RGBA size=32x83>,\n <PIL.PngImagePlugin.PngImageFile image mode=RGBA size=32x83>,\n <PIL.PngImagePlugin.PngImageFile image mode=RGBA size=32x83>,\n <PIL.PngImagePlugin.PngImageFile image mode=RGBA size=32x83>,\n <PIL.PngImagePlugin.PngImageFile image mode=RGBA size=32x83>,\n <PIL.PngImagePlugin.PngImageFile image mode=RGBA size=32x83>,\n <PIL.PngImagePlugin.PngImageFile image mode=RGBA size=32x83>,\n <PIL.PngImagePlugin.PngImageFile image mode=RGBA size=32x83>,\n <PIL.PngImagePlugin.PngImageFile image mode=RGBA size=32x83>,\n <PIL.PngImagePlugin.PngImageFile image mode=RGBA size=32x83>,\n <PIL.PngImagePlugin.PngImageFile image mode=RGBA size=32x83>,\n <PIL.PngImagePlugin.PngImageFile image mode=RGBA size=32x83>,\n <PIL.PngImagePlugin.PngImageFile image mode=RGBA size=32x83>,\n <PIL.PngImagePlugin.PngImageFile image mode=RGBA size=32x83>,\n <PIL.PngImagePlugin.PngImageFile image mode=RGBA size=32x83>,\n <PIL.PngImagePlugin.PngImageFile image mode=RGBA size=32x83>,\n <PIL.PngImagePlugin.PngImageFile image mode=RGBA size=32x83>,\n <PIL.PngImagePlugin.PngImageFile image mode=RGBA size=32x83>,\n <PIL.PngImagePlugin.PngImageFile image mode=RGBA size=32x83>,\n <PIL.PngImagePlugin.PngImageFile image mode=RGBA size=32x83>,\n <PIL.PngImagePlugin.PngImageFile image mode=RGBA size=32x83>,\n <PIL.PngImagePlugin.PngImageFile image mode=RGBA size=32x83>,\n <PIL.PngImagePlugin.PngImageFile image mode=RGBA size=32x83>,\n <PIL.PngImagePlugin.PngImageFile image mode=RGBA size=32x83>,\n <PIL.PngImagePlugin.PngImageFile image mode=RGBA size=32x83>,\n <PIL.PngImagePlugin.PngImageFile image mode=RGBA size=32x83>,\n <PIL.PngImagePlugin.PngImageFile image mode=RGBA size=32x83>,\n <PIL.PngImagePlugin.PngImageFile image mode=RGBA size=32x83>,\n <PIL.PngImagePlugin.PngImageFile image mode=RGBA size=32x83>,\n <PIL.PngImagePlugin.PngImageFile image mode=RGBA size=32x83>,\n <PIL.PngImagePlugin.PngImageFile image mode=RGBA size=32x83>,\n <PIL.PngImagePlugin.PngImageFile image mode=RGBA size=32x83>,\n <PIL.PngImagePlugin.PngImageFile image mode=RGBA size=32x83>,\n <PIL.PngImagePlugin.PngImageFile image mode=RGBA size=32x83>,\n <PIL.PngImagePlugin.PngImageFile image mode=RGBA size=32x83>,\n <PIL.PngImagePlugin.PngImageFile image mode=RGBA size=32x83>,\n <PIL.PngImagePlugin.PngImageFile image mode=RGBA size=32x83>]"
     },
     "execution_count": 103,
     "metadata": {},
     "output_type": "execute_result"
    }
   ],
   "source": [
    "frames"
   ],
   "metadata": {
    "collapsed": false,
    "ExecuteTime": {
     "end_time": "2023-08-20T21:36:25.475320Z",
     "start_time": "2023-08-20T21:36:25.452625900Z"
    }
   },
   "id": "ad3956d33cbd3225"
  },
  {
   "cell_type": "code",
   "execution_count": 192,
   "outputs": [],
   "source": [
    "\n",
    "num_key_frames = 8\n",
    "\n",
    "with Image.open('animation.gif') as im:\n",
    "    for i in range(num_key_frames):\n",
    "        im.seek(im.n_frames // num_key_frames * i)\n",
    "        im.save(f'coisa{i}.png'.format(i))"
   ],
   "metadata": {
    "collapsed": false,
    "ExecuteTime": {
     "end_time": "2023-08-20T22:50:22.887223900Z",
     "start_time": "2023-08-20T22:50:22.822051700Z"
    }
   },
   "id": "49abab5cb22a0286"
  },
  {
   "cell_type": "code",
   "execution_count": null,
   "outputs": [],
   "source": [],
   "metadata": {
    "collapsed": false
   },
   "id": "9dda5bbc028e6224"
  }
 ],
 "metadata": {
  "kernelspec": {
   "display_name": "Python 3",
   "language": "python",
   "name": "python3"
  },
  "language_info": {
   "codemirror_mode": {
    "name": "ipython",
    "version": 2
   },
   "file_extension": ".py",
   "mimetype": "text/x-python",
   "name": "python",
   "nbconvert_exporter": "python",
   "pygments_lexer": "ipython2",
   "version": "2.7.6"
  }
 },
 "nbformat": 4,
 "nbformat_minor": 5
}
